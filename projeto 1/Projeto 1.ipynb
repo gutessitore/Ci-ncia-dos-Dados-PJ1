{
 "cells": [
  {
   "cell_type": "markdown",
   "metadata": {},
   "source": [
    "# Projeto 1 "
   ]
  },
  {
   "cell_type": "markdown",
   "metadata": {},
   "source": [
    "Este codigo junta e limpa os dados sobre o IDH, Produção de energia hidrelétrica per capita e porcentagem de área coberta por \n",
    "florestas e pretende responder se exixte alguma relação entre esses dados e o IDH."
   ]
  },
  {
   "cell_type": "markdown",
   "metadata": {},
   "source": [
    "# Importando dados"
   ]
  },
  {
   "cell_type": "markdown",
   "metadata": {},
   "source": [
    "dados fornecidos pelo gapminder"
   ]
  },
  {
   "cell_type": "code",
   "execution_count": 287,
   "metadata": {},
   "outputs": [],
   "source": [
    "import pandas as pd\n",
    "import matplotlib.pyplot as plt\n",
    "\n",
    "idh = pd.read_excel('hdi_human_development_index.xlsx')\n",
    "hydro = pd.read_excel('hydro_power_generation_per_person.xlsx')\n",
    "cover = pd.read_excel('forest_coverage_percent.xlsx')\n"
   ]
  },
  {
   "cell_type": "markdown",
   "metadata": {},
   "source": [
    "Criando o dataframe"
   ]
  },
  {
   "cell_type": "code",
   "execution_count": 288,
   "metadata": {},
   "outputs": [],
   "source": [
    "cover_2010 = cover.loc[:, [\"Países\", 2010]]\n",
    "cover_idx = cover_2010.set_index(\"Países\")"
   ]
  },
  {
   "cell_type": "code",
   "execution_count": 289,
   "metadata": {
    "scrolled": true
   },
   "outputs": [],
   "source": [
    "hydro_2010 = hydro.loc[:, [\"Países\", 2010]]\n",
    "hydro_idx = hydro_2010.set_index(\"Países\")"
   ]
  },
  {
   "cell_type": "code",
   "execution_count": 290,
   "metadata": {},
   "outputs": [],
   "source": [
    "idh_2010 = idh.loc[:, [\"Países\", 2010]]\n",
    "idh_idx = idh_2010.set_index(\"Países\")"
   ]
  },
  {
   "cell_type": "markdown",
   "metadata": {},
   "source": [
    "Removendo os países sem dados"
   ]
  },
  {
   "cell_type": "code",
   "execution_count": 291,
   "metadata": {
    "scrolled": true
   },
   "outputs": [
    {
     "data": {
      "text/html": [
       "<div>\n",
       "<style scoped>\n",
       "    .dataframe tbody tr th:only-of-type {\n",
       "        vertical-align: middle;\n",
       "    }\n",
       "\n",
       "    .dataframe tbody tr th {\n",
       "        vertical-align: top;\n",
       "    }\n",
       "\n",
       "    .dataframe thead th {\n",
       "        text-align: right;\n",
       "    }\n",
       "</style>\n",
       "<table border=\"1\" class=\"dataframe\">\n",
       "  <thead>\n",
       "    <tr style=\"text-align: right;\">\n",
       "      <th></th>\n",
       "      <th>2010 IDH</th>\n",
       "      <th>2010 Produção de energia hidrelétrica por pessoa</th>\n",
       "      <th>2010 porcentagem de area florestada</th>\n",
       "    </tr>\n",
       "    <tr>\n",
       "      <th>Países</th>\n",
       "      <th></th>\n",
       "      <th></th>\n",
       "      <th></th>\n",
       "    </tr>\n",
       "  </thead>\n",
       "  <tbody>\n",
       "    <tr>\n",
       "      <th>Albania</th>\n",
       "      <td>0.738</td>\n",
       "      <td>0.20300</td>\n",
       "      <td>28.30</td>\n",
       "    </tr>\n",
       "    <tr>\n",
       "      <th>Algeria</th>\n",
       "      <td>0.724</td>\n",
       "      <td>0.00042</td>\n",
       "      <td>0.81</td>\n",
       "    </tr>\n",
       "    <tr>\n",
       "      <th>Angola</th>\n",
       "      <td>0.495</td>\n",
       "      <td>0.01590</td>\n",
       "      <td>46.90</td>\n",
       "    </tr>\n",
       "    <tr>\n",
       "      <th>Argentina</th>\n",
       "      <td>0.816</td>\n",
       "      <td>0.07150</td>\n",
       "      <td>10.40</td>\n",
       "    </tr>\n",
       "    <tr>\n",
       "      <th>Armenia</th>\n",
       "      <td>0.729</td>\n",
       "      <td>0.07110</td>\n",
       "      <td>11.60</td>\n",
       "    </tr>\n",
       "    <tr>\n",
       "      <th>Australia</th>\n",
       "      <td>0.927</td>\n",
       "      <td>0.04810</td>\n",
       "      <td>16.00</td>\n",
       "    </tr>\n",
       "    <tr>\n",
       "      <th>Austria</th>\n",
       "      <td>0.880</td>\n",
       "      <td>0.39300</td>\n",
       "      <td>46.80</td>\n",
       "    </tr>\n",
       "    <tr>\n",
       "      <th>Azerbaijan</th>\n",
       "      <td>0.741</td>\n",
       "      <td>0.03230</td>\n",
       "      <td>12.20</td>\n",
       "    </tr>\n",
       "    <tr>\n",
       "      <th>Bangladesh</th>\n",
       "      <td>0.545</td>\n",
       "      <td>0.00096</td>\n",
       "      <td>11.10</td>\n",
       "    </tr>\n",
       "    <tr>\n",
       "      <th>Belarus</th>\n",
       "      <td>0.787</td>\n",
       "      <td>0.00040</td>\n",
       "      <td>42.10</td>\n",
       "    </tr>\n",
       "    <tr>\n",
       "      <th>Belgium</th>\n",
       "      <td>0.884</td>\n",
       "      <td>0.00250</td>\n",
       "      <td>22.50</td>\n",
       "    </tr>\n",
       "    <tr>\n",
       "      <th>Bolivia</th>\n",
       "      <td>0.649</td>\n",
       "      <td>0.01890</td>\n",
       "      <td>51.90</td>\n",
       "    </tr>\n",
       "    <tr>\n",
       "      <th>Bosnia and Herzegovina</th>\n",
       "      <td>0.711</td>\n",
       "      <td>0.18300</td>\n",
       "      <td>42.70</td>\n",
       "    </tr>\n",
       "    <tr>\n",
       "      <th>Brazil</th>\n",
       "      <td>0.724</td>\n",
       "      <td>0.17800</td>\n",
       "      <td>59.60</td>\n",
       "    </tr>\n",
       "  </tbody>\n",
       "</table>\n",
       "</div>"
      ],
      "text/plain": [
       "                        2010 IDH  \\\n",
       "Países                             \n",
       "Albania                    0.738   \n",
       "Algeria                    0.724   \n",
       "Angola                     0.495   \n",
       "Argentina                  0.816   \n",
       "Armenia                    0.729   \n",
       "Australia                  0.927   \n",
       "Austria                    0.880   \n",
       "Azerbaijan                 0.741   \n",
       "Bangladesh                 0.545   \n",
       "Belarus                    0.787   \n",
       "Belgium                    0.884   \n",
       "Bolivia                    0.649   \n",
       "Bosnia and Herzegovina     0.711   \n",
       "Brazil                     0.724   \n",
       "\n",
       "                        2010 Produção de energia hidrelétrica por pessoa  \\\n",
       "Países                                                                     \n",
       "Albania                                                          0.20300   \n",
       "Algeria                                                          0.00042   \n",
       "Angola                                                           0.01590   \n",
       "Argentina                                                        0.07150   \n",
       "Armenia                                                          0.07110   \n",
       "Australia                                                        0.04810   \n",
       "Austria                                                          0.39300   \n",
       "Azerbaijan                                                       0.03230   \n",
       "Bangladesh                                                       0.00096   \n",
       "Belarus                                                          0.00040   \n",
       "Belgium                                                          0.00250   \n",
       "Bolivia                                                          0.01890   \n",
       "Bosnia and Herzegovina                                           0.18300   \n",
       "Brazil                                                           0.17800   \n",
       "\n",
       "                        2010 porcentagem de area florestada  \n",
       "Países                                                       \n",
       "Albania                                               28.30  \n",
       "Algeria                                                0.81  \n",
       "Angola                                                46.90  \n",
       "Argentina                                             10.40  \n",
       "Armenia                                               11.60  \n",
       "Australia                                             16.00  \n",
       "Austria                                               46.80  \n",
       "Azerbaijan                                            12.20  \n",
       "Bangladesh                                            11.10  \n",
       "Belarus                                               42.10  \n",
       "Belgium                                               22.50  \n",
       "Bolivia                                               51.90  \n",
       "Bosnia and Herzegovina                                42.70  \n",
       "Brazil                                                59.60  "
      ]
     },
     "execution_count": 291,
     "metadata": {},
     "output_type": "execute_result"
    }
   ],
   "source": [
    "df = idh_idx.join(hydro_idx, how='inner', lsuffix=' IDH', rsuffix=' Produção de energia hidrelétrica por pessoa')\n",
    "df['2010 porcentagem de area florestada'] = cover_idx[2010]\n",
    "data = df.dropna()\n",
    "data.head(14)"
   ]
  },
  {
   "cell_type": "code",
   "execution_count": 292,
   "metadata": {},
   "outputs": [
    {
     "data": {
      "text/html": [
       "<div>\n",
       "<style scoped>\n",
       "    .dataframe tbody tr th:only-of-type {\n",
       "        vertical-align: middle;\n",
       "    }\n",
       "\n",
       "    .dataframe tbody tr th {\n",
       "        vertical-align: top;\n",
       "    }\n",
       "\n",
       "    .dataframe thead th {\n",
       "        text-align: right;\n",
       "    }\n",
       "</style>\n",
       "<table border=\"1\" class=\"dataframe\">\n",
       "  <thead>\n",
       "    <tr style=\"text-align: right;\">\n",
       "      <th></th>\n",
       "      <th>2010 IDH</th>\n",
       "      <th>2010 Produção de energia hidrelétrica por pessoa</th>\n",
       "      <th>2010 porcentagem de area florestada</th>\n",
       "    </tr>\n",
       "    <tr>\n",
       "      <th>Países</th>\n",
       "      <th></th>\n",
       "      <th></th>\n",
       "      <th></th>\n",
       "    </tr>\n",
       "  </thead>\n",
       "  <tbody>\n",
       "    <tr>\n",
       "      <th>Norway</th>\n",
       "      <td>0.939</td>\n",
       "      <td>2.07000</td>\n",
       "      <td>33.1</td>\n",
       "    </tr>\n",
       "    <tr>\n",
       "      <th>Switzerland</th>\n",
       "      <td>0.932</td>\n",
       "      <td>0.40500</td>\n",
       "      <td>31.3</td>\n",
       "    </tr>\n",
       "    <tr>\n",
       "      <th>Australia</th>\n",
       "      <td>0.927</td>\n",
       "      <td>0.04810</td>\n",
       "      <td>16.0</td>\n",
       "    </tr>\n",
       "    <tr>\n",
       "      <th>Germany</th>\n",
       "      <td>0.912</td>\n",
       "      <td>0.02130</td>\n",
       "      <td>32.7</td>\n",
       "    </tr>\n",
       "    <tr>\n",
       "      <th>Netherlands</th>\n",
       "      <td>0.911</td>\n",
       "      <td>0.00054</td>\n",
       "      <td>11.1</td>\n",
       "    </tr>\n",
       "    <tr>\n",
       "      <th>United States</th>\n",
       "      <td>0.910</td>\n",
       "      <td>0.07270</td>\n",
       "      <td>33.8</td>\n",
       "    </tr>\n",
       "    <tr>\n",
       "      <th>Denmark</th>\n",
       "      <td>0.910</td>\n",
       "      <td>0.00033</td>\n",
       "      <td>13.8</td>\n",
       "    </tr>\n",
       "  </tbody>\n",
       "</table>\n",
       "</div>"
      ],
      "text/plain": [
       "               2010 IDH  2010 Produção de energia hidrelétrica por pessoa  \\\n",
       "Países                                                                      \n",
       "Norway            0.939                                           2.07000   \n",
       "Switzerland       0.932                                           0.40500   \n",
       "Australia         0.927                                           0.04810   \n",
       "Germany           0.912                                           0.02130   \n",
       "Netherlands       0.911                                           0.00054   \n",
       "United States     0.910                                           0.07270   \n",
       "Denmark           0.910                                           0.00033   \n",
       "\n",
       "               2010 porcentagem de area florestada  \n",
       "Países                                              \n",
       "Norway                                        33.1  \n",
       "Switzerland                                   31.3  \n",
       "Australia                                     16.0  \n",
       "Germany                                       32.7  \n",
       "Netherlands                                   11.1  \n",
       "United States                                 33.8  \n",
       "Denmark                                       13.8  "
      ]
     },
     "execution_count": 292,
     "metadata": {},
     "output_type": "execute_result"
    }
   ],
   "source": [
    "dh = data.sort_values('2010 IDH', ascending=False)\n",
    "dh.head(7)"
   ]
  },
  {
   "cell_type": "code",
   "execution_count": 293,
   "metadata": {},
   "outputs": [],
   "source": [
    "def reta(dados_x, dados_y, eixo_y):    \n",
    "    a = dados_y.cov(dados_x) / dados_x.var()\n",
    "    b = dados_y.mean() - a*dados_x.mean()\n",
    " \n",
    "    print('Ajuste linear entre X3 e X4:')\n",
    "    print('Coeficiente linear:', b)\n",
    "    print('Coeficiente angular:', a)\n",
    " \n",
    "    fig = plt.figure(figsize=(8, 6))\n",
    "    plt.scatter(dados_x, dados_y, c='red', alpha=0.8)\n",
    "    plt.xlabel('IDH')\n",
    "    plt.ylabel(eixo_y)\n",
    " \n",
    "    plt.plot((dados_x.min(), dados_x.max()), (a*dados_x.min()+b, a*dados_x.max()+b), color='blue')\n",
    " \n",
    "    plt.tight_layout()\n",
    "    plt.show()"
   ]
  },
  {
   "cell_type": "markdown",
   "metadata": {},
   "source": [
    "# IDH vs Produção de energia hidrelétrica percapita"
   ]
  },
  {
   "cell_type": "code",
   "execution_count": 294,
   "metadata": {},
   "outputs": [
    {
     "name": "stdout",
     "output_type": "stream",
     "text": [
      "Ajuste linear entre X3 e X4:\n",
      "Coeficiente linear: -0.41126226191932336\n",
      "Coeficiente angular: 0.747846881780639\n"
     ]
    },
    {
     "data": {
      "image/png": "[encoded data removed]",
      "text/plain": [
       "<matplotlib.figure.Figure at 0x2390afe9908>"
      ]
     },
     "metadata": {},
     "output_type": "display_data"
    }
   ],
   "source": [
    "reta(dh['2010 IDH'],dh['2010 Produção de energia hidrelétrica por pessoa'], 'Produção de energia hidrelétrica por pessoa')"
   ]
  },
  {
   "cell_type": "markdown",
   "metadata": {},
   "source": [
    "# IDH vs porcentagem de area florestada"
   ]
  },
  {
   "cell_type": "code",
   "execution_count": 295,
   "metadata": {},
   "outputs": [
    {
     "name": "stdout",
     "output_type": "stream",
     "text": [
      "Ajuste linear entre X3 e X4:\n",
      "Coeficiente linear: 26.24330272136389\n",
      "Coeficiente angular: 7.1971198903560225\n"
     ]
    },
    {
     "data": {
      "image/png": "[encoded data removed]",
      "text/plain": [
       "<matplotlib.figure.Figure at 0x2390b281e48>"
      ]
     },
     "metadata": {},
     "output_type": "display_data"
    }
   ],
   "source": [
    "reta(dh['2010 IDH'],dh['2010 porcentagem de area florestada'], 'porcentagem de area florestada')"
   ]
  },
  {
   "cell_type": "markdown",
   "metadata": {},
   "source": [
    "# Análise"
   ]
  },
  {
   "cell_type": "code",
   "execution_count": 296,
   "metadata": {},
   "outputs": [
    {
     "data": {
      "text/html": [
       "<div>\n",
       "<style scoped>\n",
       "    .dataframe tbody tr th:only-of-type {\n",
       "        vertical-align: middle;\n",
       "    }\n",
       "\n",
       "    .dataframe tbody tr th {\n",
       "        vertical-align: top;\n",
       "    }\n",
       "\n",
       "    .dataframe thead th {\n",
       "        text-align: right;\n",
       "    }\n",
       "</style>\n",
       "<table border=\"1\" class=\"dataframe\">\n",
       "  <thead>\n",
       "    <tr style=\"text-align: right;\">\n",
       "      <th></th>\n",
       "      <th>2010 IDH</th>\n",
       "      <th>2010 Produção de energia hidrelétrica por pessoa</th>\n",
       "      <th>2010 porcentagem de area florestada</th>\n",
       "    </tr>\n",
       "  </thead>\n",
       "  <tbody>\n",
       "    <tr>\n",
       "      <th>2010 IDH</th>\n",
       "      <td>1.000000</td>\n",
       "      <td>0.277349</td>\n",
       "      <td>0.050001</td>\n",
       "    </tr>\n",
       "    <tr>\n",
       "      <th>2010 Produção de energia hidrelétrica por pessoa</th>\n",
       "      <td>0.277349</td>\n",
       "      <td>1.000000</td>\n",
       "      <td>-0.016517</td>\n",
       "    </tr>\n",
       "    <tr>\n",
       "      <th>2010 porcentagem de area florestada</th>\n",
       "      <td>0.050001</td>\n",
       "      <td>-0.016517</td>\n",
       "      <td>1.000000</td>\n",
       "    </tr>\n",
       "  </tbody>\n",
       "</table>\n",
       "</div>"
      ],
      "text/plain": [
       "                                                  2010 IDH  \\\n",
       "2010 IDH                                          1.000000   \n",
       "2010 Produção de energia hidrelétrica por pessoa  0.277349   \n",
       "2010 porcentagem de area florestada               0.050001   \n",
       "\n",
       "                                                  2010 Produção de energia hidrelétrica por pessoa  \\\n",
       "2010 IDH                                                                                  0.277349   \n",
       "2010 Produção de energia hidrelétrica por pessoa                                          1.000000   \n",
       "2010 porcentagem de area florestada                                                      -0.016517   \n",
       "\n",
       "                                                  2010 porcentagem de area florestada  \n",
       "2010 IDH                                                                     0.050001  \n",
       "2010 Produção de energia hidrelétrica por pessoa                            -0.016517  \n",
       "2010 porcentagem de area florestada                                          1.000000  "
      ]
     },
     "execution_count": 296,
     "metadata": {},
     "output_type": "execute_result"
    }
   ],
   "source": [
    "dh.corr()"
   ]
  },
  {
   "cell_type": "markdown",
   "metadata": {},
   "source": [
    "# Área florestada"
   ]
  },
  {
   "cell_type": "code",
   "execution_count": 297,
   "metadata": {},
   "outputs": [
    {
     "data": {
      "text/html": [
       "<div>\n",
       "<style scoped>\n",
       "    .dataframe tbody tr th:only-of-type {\n",
       "        vertical-align: middle;\n",
       "    }\n",
       "\n",
       "    .dataframe tbody tr th {\n",
       "        vertical-align: top;\n",
       "    }\n",
       "\n",
       "    .dataframe thead th {\n",
       "        text-align: right;\n",
       "    }\n",
       "</style>\n",
       "<table border=\"1\" class=\"dataframe\">\n",
       "  <thead>\n",
       "    <tr style=\"text-align: right;\">\n",
       "      <th></th>\n",
       "      <th>2010 IDH</th>\n",
       "      <th>2010 Produção de energia hidrelétrica por pessoa</th>\n",
       "      <th>2010 porcentagem de area florestada</th>\n",
       "    </tr>\n",
       "    <tr>\n",
       "      <th>Países</th>\n",
       "      <th></th>\n",
       "      <th></th>\n",
       "      <th></th>\n",
       "    </tr>\n",
       "  </thead>\n",
       "  <tbody>\n",
       "    <tr>\n",
       "      <th>Gabon</th>\n",
       "      <td>0.664</td>\n",
       "      <td>0.04620</td>\n",
       "      <td>85.4</td>\n",
       "    </tr>\n",
       "    <tr>\n",
       "      <th>Finland</th>\n",
       "      <td>0.878</td>\n",
       "      <td>0.20700</td>\n",
       "      <td>73.1</td>\n",
       "    </tr>\n",
       "    <tr>\n",
       "      <th>Japan</th>\n",
       "      <td>0.884</td>\n",
       "      <td>0.05590</td>\n",
       "      <td>68.5</td>\n",
       "    </tr>\n",
       "    <tr>\n",
       "      <th>Sweden</th>\n",
       "      <td>0.901</td>\n",
       "      <td>0.60900</td>\n",
       "      <td>68.4</td>\n",
       "    </tr>\n",
       "    <tr>\n",
       "      <th>Congo, Dem. Rep.</th>\n",
       "      <td>0.398</td>\n",
       "      <td>0.01020</td>\n",
       "      <td>68.0</td>\n",
       "    </tr>\n",
       "    <tr>\n",
       "      <th>Malaysia</th>\n",
       "      <td>0.774</td>\n",
       "      <td>0.01960</td>\n",
       "      <td>67.3</td>\n",
       "    </tr>\n",
       "    <tr>\n",
       "      <th>Zambia</th>\n",
       "      <td>0.543</td>\n",
       "      <td>0.07410</td>\n",
       "      <td>66.5</td>\n",
       "    </tr>\n",
       "    <tr>\n",
       "      <th>Congo, Rep.</th>\n",
       "      <td>0.558</td>\n",
       "      <td>0.00915</td>\n",
       "      <td>65.6</td>\n",
       "    </tr>\n",
       "    <tr>\n",
       "      <th>South Korea</th>\n",
       "      <td>0.884</td>\n",
       "      <td>0.00657</td>\n",
       "      <td>64.0</td>\n",
       "    </tr>\n",
       "    <tr>\n",
       "      <th>Panama</th>\n",
       "      <td>0.758</td>\n",
       "      <td>0.10200</td>\n",
       "      <td>63.2</td>\n",
       "    </tr>\n",
       "  </tbody>\n",
       "</table>\n",
       "</div>"
      ],
      "text/plain": [
       "                  2010 IDH  2010 Produção de energia hidrelétrica por pessoa  \\\n",
       "Países                                                                         \n",
       "Gabon                0.664                                           0.04620   \n",
       "Finland              0.878                                           0.20700   \n",
       "Japan                0.884                                           0.05590   \n",
       "Sweden               0.901                                           0.60900   \n",
       "Congo, Dem. Rep.     0.398                                           0.01020   \n",
       "Malaysia             0.774                                           0.01960   \n",
       "Zambia               0.543                                           0.07410   \n",
       "Congo, Rep.          0.558                                           0.00915   \n",
       "South Korea          0.884                                           0.00657   \n",
       "Panama               0.758                                           0.10200   \n",
       "\n",
       "                  2010 porcentagem de area florestada  \n",
       "Países                                                 \n",
       "Gabon                                            85.4  \n",
       "Finland                                          73.1  \n",
       "Japan                                            68.5  \n",
       "Sweden                                           68.4  \n",
       "Congo, Dem. Rep.                                 68.0  \n",
       "Malaysia                                         67.3  \n",
       "Zambia                                           66.5  \n",
       "Congo, Rep.                                      65.6  \n",
       "South Korea                                      64.0  \n",
       "Panama                                           63.2  "
      ]
     },
     "execution_count": 297,
     "metadata": {},
     "output_type": "execute_result"
    }
   ],
   "source": [
    "dh.sort_values('2010 porcentagem de area florestada', ascending = False).head(10)"
   ]
  },
  {
   "cell_type": "markdown",
   "metadata": {},
   "source": [
    "    Como podemos ver a relação entre a porcentagem de area florestada e o IDH é quase aleatória, com uma correlação de 0.05, sendo 1 e -1 os melhores valores possivéis. A tabela anterior mostra que 4 dos top 10 países possuem um IDH maior que 0,8 e 6 com IDH maior que 0,7, o que corrobora com a idea de desconexão entre os dois aspectos análisados. \n",
    "    Porém ao verificar que na lista dos top 10 países com os maiores IDH's nenhum possui mais que um terço de área florestada percebi que o a região onde o país está localizado é quem realmente influência a porcentagem de área florestada. Um exemplo é a Australia, que possuí apenas 16% de florestas, mas isso ocorre devido ao enorme deserto que quase domina o país, inicialmente pensei que os países mais desenvolvidos possuíam menos florestas devido á expansão urbana e industrial, mas essa hipótese não se sustentou."
   ]
  },
  {
   "cell_type": "markdown",
   "metadata": {},
   "source": [
    "# Produção de energia hidrelétrica por pessoa"
   ]
  },
  {
   "cell_type": "code",
   "execution_count": 298,
   "metadata": {},
   "outputs": [
    {
     "data": {
      "text/html": [
       "<div>\n",
       "<style scoped>\n",
       "    .dataframe tbody tr th:only-of-type {\n",
       "        vertical-align: middle;\n",
       "    }\n",
       "\n",
       "    .dataframe tbody tr th {\n",
       "        vertical-align: top;\n",
       "    }\n",
       "\n",
       "    .dataframe thead th {\n",
       "        text-align: right;\n",
       "    }\n",
       "</style>\n",
       "<table border=\"1\" class=\"dataframe\">\n",
       "  <thead>\n",
       "    <tr style=\"text-align: right;\">\n",
       "      <th></th>\n",
       "      <th>2010 IDH</th>\n",
       "      <th>2010 Produção de energia hidrelétrica por pessoa</th>\n",
       "      <th>2010 porcentagem de area florestada</th>\n",
       "    </tr>\n",
       "    <tr>\n",
       "      <th>Países</th>\n",
       "      <th></th>\n",
       "      <th></th>\n",
       "      <th></th>\n",
       "    </tr>\n",
       "  </thead>\n",
       "  <tbody>\n",
       "    <tr>\n",
       "      <th>Iceland</th>\n",
       "      <td>0.894</td>\n",
       "      <td>3.380</td>\n",
       "      <td>0.43</td>\n",
       "    </tr>\n",
       "    <tr>\n",
       "      <th>Norway</th>\n",
       "      <td>0.939</td>\n",
       "      <td>2.070</td>\n",
       "      <td>33.10</td>\n",
       "    </tr>\n",
       "    <tr>\n",
       "      <th>Canada</th>\n",
       "      <td>0.903</td>\n",
       "      <td>0.888</td>\n",
       "      <td>38.20</td>\n",
       "    </tr>\n",
       "    <tr>\n",
       "      <th>Paraguay</th>\n",
       "      <td>0.675</td>\n",
       "      <td>0.720</td>\n",
       "      <td>42.70</td>\n",
       "    </tr>\n",
       "    <tr>\n",
       "      <th>Sweden</th>\n",
       "      <td>0.901</td>\n",
       "      <td>0.609</td>\n",
       "      <td>68.40</td>\n",
       "    </tr>\n",
       "    <tr>\n",
       "      <th>New Zealand</th>\n",
       "      <td>0.901</td>\n",
       "      <td>0.486</td>\n",
       "      <td>38.50</td>\n",
       "    </tr>\n",
       "    <tr>\n",
       "      <th>Switzerland</th>\n",
       "      <td>0.932</td>\n",
       "      <td>0.405</td>\n",
       "      <td>31.30</td>\n",
       "    </tr>\n",
       "    <tr>\n",
       "      <th>Austria</th>\n",
       "      <td>0.880</td>\n",
       "      <td>0.393</td>\n",
       "      <td>46.80</td>\n",
       "    </tr>\n",
       "    <tr>\n",
       "      <th>Montenegro</th>\n",
       "      <td>0.792</td>\n",
       "      <td>0.374</td>\n",
       "      <td>61.50</td>\n",
       "    </tr>\n",
       "    <tr>\n",
       "      <th>Venezuela</th>\n",
       "      <td>0.756</td>\n",
       "      <td>0.228</td>\n",
       "      <td>53.90</td>\n",
       "    </tr>\n",
       "  </tbody>\n",
       "</table>\n",
       "</div>"
      ],
      "text/plain": [
       "             2010 IDH  2010 Produção de energia hidrelétrica por pessoa  \\\n",
       "Países                                                                    \n",
       "Iceland         0.894                                             3.380   \n",
       "Norway          0.939                                             2.070   \n",
       "Canada          0.903                                             0.888   \n",
       "Paraguay        0.675                                             0.720   \n",
       "Sweden          0.901                                             0.609   \n",
       "New Zealand     0.901                                             0.486   \n",
       "Switzerland     0.932                                             0.405   \n",
       "Austria         0.880                                             0.393   \n",
       "Montenegro      0.792                                             0.374   \n",
       "Venezuela       0.756                                             0.228   \n",
       "\n",
       "             2010 porcentagem de area florestada  \n",
       "Países                                            \n",
       "Iceland                                     0.43  \n",
       "Norway                                     33.10  \n",
       "Canada                                     38.20  \n",
       "Paraguay                                   42.70  \n",
       "Sweden                                     68.40  \n",
       "New Zealand                                38.50  \n",
       "Switzerland                                31.30  \n",
       "Austria                                    46.80  \n",
       "Montenegro                                 61.50  \n",
       "Venezuela                                  53.90  "
      ]
     },
     "execution_count": 298,
     "metadata": {},
     "output_type": "execute_result"
    }
   ],
   "source": [
    "dh.sort_values('2010 Produção de energia hidrelétrica por pessoa', ascending = False).head(10)"
   ]
  },
  {
   "cell_type": "markdown",
   "metadata": {},
   "source": [
    "    Agora vendo a relação entre a produção de energia hidrelétrica por pessoa e o IDH, que é de 0.27, um valor ainda muito baixo para ser considerado como 'influenciador' direto do IDH, porém ao ver a lista dos top 10 produtores de energia hidrelétrica perebemos que 7 deles possuem um IDH maior que 0,8, e o único com um IDH a baixo de 0,7 é o Paraguay, essa anomalia pode ser explicada pela enorme produção de energia da represa de Itaipu. Portanto deve existir alguma relação entre os dois certo?"
   ]
  },
  {
   "cell_type": "markdown",
   "metadata": {},
   "source": [
    "    Porcentagem de energia renovável consumida\n",
    "    fonte: http://hdr.undp.org/en/composite/Dashboard2"
   ]
  },
  {
   "cell_type": "code",
   "execution_count": 308,
   "metadata": {},
   "outputs": [
    {
     "data": {
      "text/html": [
       "<div>\n",
       "<style scoped>\n",
       "    .dataframe tbody tr th:only-of-type {\n",
       "        vertical-align: middle;\n",
       "    }\n",
       "\n",
       "    .dataframe tbody tr th {\n",
       "        vertical-align: top;\n",
       "    }\n",
       "\n",
       "    .dataframe thead th {\n",
       "        text-align: right;\n",
       "    }\n",
       "</style>\n",
       "<table border=\"1\" class=\"dataframe\">\n",
       "  <thead>\n",
       "    <tr style=\"text-align: right;\">\n",
       "      <th></th>\n",
       "      <th>2012</th>\n",
       "    </tr>\n",
       "    <tr>\n",
       "      <th>Países</th>\n",
       "      <th></th>\n",
       "    </tr>\n",
       "  </thead>\n",
       "  <tbody>\n",
       "    <tr>\n",
       "      <th>Iceland</th>\n",
       "      <td>78.1393</td>\n",
       "    </tr>\n",
       "    <tr>\n",
       "      <th>Norway</th>\n",
       "      <td>58.0179</td>\n",
       "    </tr>\n",
       "    <tr>\n",
       "      <th>Canada</th>\n",
       "      <td>20.5987</td>\n",
       "    </tr>\n",
       "    <tr>\n",
       "      <th>Paraguay</th>\n",
       "      <td>62.6775</td>\n",
       "    </tr>\n",
       "    <tr>\n",
       "      <th>Sweden</th>\n",
       "      <td>49.9132</td>\n",
       "    </tr>\n",
       "    <tr>\n",
       "      <th>New Zealand</th>\n",
       "      <td>30.7801</td>\n",
       "    </tr>\n",
       "    <tr>\n",
       "      <th>Switzerland</th>\n",
       "      <td>22.6829</td>\n",
       "    </tr>\n",
       "    <tr>\n",
       "      <th>Austria</th>\n",
       "      <td>34.4506</td>\n",
       "    </tr>\n",
       "    <tr>\n",
       "      <th>Montenegro</th>\n",
       "      <td>46.1955</td>\n",
       "    </tr>\n",
       "  </tbody>\n",
       "</table>\n",
       "</div>"
      ],
      "text/plain": [
       "                2012\n",
       "Países              \n",
       "Iceland      78.1393\n",
       "Norway       58.0179\n",
       "Canada       20.5987\n",
       "Paraguay     62.6775\n",
       "Sweden       49.9132\n",
       "New Zealand  30.7801\n",
       "Switzerland  22.6829\n",
       "Austria      34.4506\n",
       "Montenegro   46.1955"
      ]
     },
     "execution_count": 308,
     "metadata": {},
     "output_type": "execute_result"
    }
   ],
   "source": [
    "Energy = pd.read_excel('2016_Statistical_Annex_Dashboard_2.xlsx')\n",
    "Energy_2012 = Energy.loc[:, [\"Países\", 2012]]\n",
    "Energy_idx = Energy_2012.set_index(\"Países\")\n",
    "Energy_ = Energy_idx.dropna()\n",
    "#Energy_.sort_values(2012, ascending = False)\n",
    "Energy_.loc[['Iceland', 'Norway', 'Canada', 'Paraguay', 'Sweden', 'New Zealand', \\\n",
    "             'Switzerland', 'Austria', 'Montenegro'],:]"
   ]
  },
  {
   "cell_type": "markdown",
   "metadata": {},
   "source": [
    "Errado! Apenas 4 dos países da tabela anterior consomem mais energia renovável do que não renovável, o que não explica a relação vista anteriormente, podendo assim ser uma simples conhecidencia."
   ]
  },
  {
   "cell_type": "markdown",
   "metadata": {},
   "source": [
    "Gustavo Schlieper Tessitore"
   ]
  }
 ],
 "metadata": {
  "kernelspec": {
   "display_name": "Python 3",
   "language": "python",
   "name": "python3"
  },
  "language_info": {
   "codemirror_mode": {
    "name": "ipython",
    "version": 3
   },
   "file_extension": ".py",
   "mimetype": "text/x-python",
   "name": "python",
   "nbconvert_exporter": "python",
   "pygments_lexer": "ipython3",
   "version": "3.6.4"
  }
 },
 "nbformat": 4,
 "nbformat_minor": 2
}
